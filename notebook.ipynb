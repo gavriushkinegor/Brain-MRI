{
 "cells": [
  {
   "cell_type": "code",
   "execution_count": 1,
   "metadata": {},
   "outputs": [
    {
     "name": "stdout",
     "output_type": "stream",
     "text": [
      "2.5.0\n",
      "0.20.0\n"
     ]
    }
   ],
   "source": [
    "import os\n",
    "import shutil\n",
    "import random\n",
    "from torchvision import datasets, models\n",
    "from torchvision.transforms import v2 as transforms\n",
    "from torch.utils.data import DataLoader\n",
    "import matplotlib.pyplot as plt\n",
    "import numpy as np\n",
    "import torch\n",
    "import torchvision\n",
    "from torchvision import models\n",
    "import torch.nn as nn\n",
    "from sklearn.metrics import precision_score, recall_score, f1_score\n",
    "\n",
    "\n",
    "print(torch.__version__)\n",
    "print(torchvision.__version__)"
   ]
  },
  {
   "cell_type": "markdown",
   "metadata": {},
   "source": [
    "### Загрузим данные и раскидаем все по train, val, test"
   ]
  },
  {
   "cell_type": "code",
   "execution_count": 2,
   "metadata": {},
   "outputs": [],
   "source": [
    "raw_dataset = './raw_data'\n",
    "splitted_dataset = './splitted_data'"
   ]
  },
  {
   "cell_type": "code",
   "execution_count": 3,
   "metadata": {},
   "outputs": [],
   "source": [
    "if not os.path.exists(splitted_dataset):\n",
    "    os.mkdir(splitted_dataset)"
   ]
  },
  {
   "cell_type": "code",
   "execution_count": 4,
   "metadata": {},
   "outputs": [],
   "source": [
    "train_dir = os.path.join(splitted_dataset, 'train')\n",
    "if not os.path.exists(train_dir):\n",
    "    os.mkdir(train_dir)"
   ]
  },
  {
   "cell_type": "code",
   "execution_count": 5,
   "metadata": {},
   "outputs": [],
   "source": [
    "val_dir = os.path.join(splitted_dataset, 'val')\n",
    "if not os.path.exists(val_dir):\n",
    "    os.mkdir(val_dir)"
   ]
  },
  {
   "cell_type": "code",
   "execution_count": 6,
   "metadata": {},
   "outputs": [],
   "source": [
    "test_dir = os.path.join(splitted_dataset, 'test')\n",
    "if not os.path.exists(test_dir):\n",
    "    os.mkdir(test_dir)"
   ]
  },
  {
   "cell_type": "code",
   "execution_count": 7,
   "metadata": {},
   "outputs": [
    {
     "name": "stdout",
     "output_type": "stream",
     "text": [
      "['pituitary', 'healthy', 'glioma', 'meningioma']\n"
     ]
    }
   ],
   "source": [
    "#classes = ['glioma', 'healthy', 'meningioma', 'pituitary']\n",
    "classes = [d for d in os.listdir(raw_dataset) if os.path.isdir(os.path.join(raw_dataset, d))]\n",
    "print(classes)"
   ]
  },
  {
   "cell_type": "code",
   "execution_count": 8,
   "metadata": {},
   "outputs": [],
   "source": [
    "#make folders for each class inside each bucket (train val test)\n",
    "for cls in classes:\n",
    "    train_full = os.path.join(train_dir, cls)\n",
    "    if not os.path.exists(train_full):\n",
    "        os.mkdir(train_full)\n",
    "\n",
    "    val_full = os.path.join(val_dir, cls)\n",
    "    if not os.path.exists(val_full):\n",
    "        os.mkdir(val_full)\n",
    "    \n",
    "    test_full = os.path.join(test_dir, cls)\n",
    "    if not os.path.exists(test_full):\n",
    "        os.mkdir(test_full)"
   ]
  },
  {
   "cell_type": "code",
   "execution_count": 9,
   "metadata": {},
   "outputs": [
    {
     "name": "stdout",
     "output_type": "stream",
     "text": [
      "Class pituitary\n",
      "Total files: 1757\n",
      "Train_split: 1229\n",
      "Validation_split: 351\n",
      "Test_split: 177\n",
      "Разделение данных завершено\n",
      "Class healthy\n",
      "Total files: 2000\n",
      "Train_split: 1400\n",
      "Validation_split: 400\n",
      "Test_split: 200\n",
      "Разделение данных завершено\n",
      "Class glioma\n",
      "Total files: 1621\n",
      "Train_split: 1134\n",
      "Validation_split: 324\n",
      "Test_split: 163\n",
      "Разделение данных завершено\n",
      "Class meningioma\n",
      "Total files: 1645\n",
      "Train_split: 1151\n",
      "Validation_split: 329\n",
      "Test_split: 165\n",
      "Разделение данных завершено\n"
     ]
    }
   ],
   "source": [
    "# разделим наши файлы по train test val\n",
    "for cls in classes:\n",
    "    cls_dir = os.path.join(raw_dataset, cls)\n",
    "    files = [f for f in os.listdir(cls_dir) if os.path.isfile(os.path.join(cls_dir, f))]\n",
    "\n",
    "    #проверим не пустая ли папка\n",
    "    if len(files) == 0:\n",
    "        print(f'В папке {os.path(cls_dir)} нет файлов')\n",
    "        continue\n",
    "    \n",
    "    random.seed(42)\n",
    "    random.shuffle(files)\n",
    "    # определяем сколько файлов по трейн валу и тесту будем кидать в процентах\n",
    "    train_split = int(0.7 * len(files))\n",
    "    val_split = int(0.2 * len(files))\n",
    "    test_split = int(0.1 * len(files))\n",
    "\n",
    "    train_files = files[:train_split]\n",
    "    val_files = files[train_split:train_split + val_split]\n",
    "    test_files = files[train_split + val_split:]\n",
    "\n",
    "    print(f'Class {cls}')\n",
    "    print(f'Total files: {len(files)}')\n",
    "    print(f'Train_split: {len(train_files)}')\n",
    "    print(f'Validation_split: {len(val_files)}')\n",
    "    print(f'Test_split: {len(test_files)}')\n",
    "\n",
    "    #теперь скопируем файлы из оригинальной папки в эту сложную систему папок, накатаем функцию\n",
    "    def copy_files(file_list, src_dir, dst_dir):\n",
    "        for file in file_list:\n",
    "            src = os.path.join(src_dir, file)\n",
    "            dst = os.path.join(dst_dir, cls, file)\n",
    "            shutil.copyfile(src, dst)\n",
    "    \n",
    "    copy_files(train_files, cls_dir, train_dir)\n",
    "    copy_files(val_files, cls_dir, val_dir)\n",
    "    copy_files(test_files, cls_dir, test_dir)\n",
    "    \n",
    "    print(\"Разделение данных завершено\")\n"
   ]
  },
  {
   "cell_type": "markdown",
   "metadata": {},
   "source": [
    "### Определим свойства трансформера этих данных "
   ]
  },
  {
   "cell_type": "code",
   "execution_count": 10,
   "metadata": {},
   "outputs": [],
   "source": [
    "train_transforms = transforms.Compose([\n",
    "    transforms.Resize(size =(224, 224)),\n",
    "    transforms.RandomHorizontalFlip(p = 0.5),\n",
    "    transforms.RandomRotation(degrees = 10),\n",
    "    transforms.ToImage(),\n",
    "    transforms.ToDtype(dtype = torch.float32, scale = True),\n",
    "    transforms.Normalize(mean=[0.485, 0.456, 0.406],\n",
    "                         std=[0.229, 0.224, 0.225])\n",
    "])"
   ]
  },
  {
   "cell_type": "code",
   "execution_count": 11,
   "metadata": {},
   "outputs": [],
   "source": [
    "val_transforms = transforms.Compose([\n",
    "    transforms.Resize(size =(224, 224)),\n",
    "    transforms.ToImage(),\n",
    "    transforms.ToDtype(dtype = torch.float32, scale = True),\n",
    "    transforms.Normalize(mean=[0.485, 0.456, 0.406],\n",
    "                         std=[0.229, 0.224, 0.225])\n",
    "])"
   ]
  },
  {
   "cell_type": "code",
   "execution_count": 12,
   "metadata": {},
   "outputs": [],
   "source": [
    "test_transforms = transforms.Compose([\n",
    "    transforms.Resize(size =(224, 224)),\n",
    "    transforms.ToImage(),\n",
    "    transforms.ToDtype(dtype = torch.float32, scale = True),\n",
    "    transforms.Normalize(mean=[0.485, 0.456, 0.406],\n",
    "                         std=[0.229, 0.224, 0.225])\n",
    "])"
   ]
  },
  {
   "cell_type": "markdown",
   "metadata": {},
   "source": [
    "# Apply Transformations\n"
   ]
  },
  {
   "cell_type": "code",
   "execution_count": 13,
   "metadata": {},
   "outputs": [],
   "source": [
    "train_dataset = datasets.ImageFolder(root = train_dir, transform = train_transforms)\n",
    "val_dataset = datasets.ImageFolder(root = val_dir, transform = val_transforms)\n",
    "test_dataset = datasets.ImageFolder(root = test_dir, transform = test_transforms)"
   ]
  },
  {
   "cell_type": "code",
   "execution_count": 14,
   "metadata": {},
   "outputs": [
    {
     "name": "stdout",
     "output_type": "stream",
     "text": [
      "Классы: ['glioma', 'healthy', 'meningioma', 'pituitary']\n"
     ]
    }
   ],
   "source": [
    "# Проверка классов\n",
    "print(\"Классы:\", train_dataset.classes)"
   ]
  },
  {
   "cell_type": "markdown",
   "metadata": {},
   "source": [
    "# Создадим даталоадеры что бы иметь удобную настройку batch size, многопоточность при загрузке"
   ]
  },
  {
   "cell_type": "code",
   "execution_count": 15,
   "metadata": {},
   "outputs": [],
   "source": [
    "batch_size = 64\n",
    "num_workers = 8"
   ]
  },
  {
   "cell_type": "code",
   "execution_count": 16,
   "metadata": {},
   "outputs": [],
   "source": [
    "train_loader = DataLoader(dataset = train_dataset, batch_size = batch_size, shuffle = True, num_workers = num_workers)\n",
    "val_loader = DataLoader(dataset = val_dataset, batch_size = batch_size, shuffle = True, num_workers = num_workers)\n",
    "test_loader = DataLoader(dataset = test_dataset, batch_size = batch_size, shuffle = True, num_workers = num_workers)\n"
   ]
  },
  {
   "cell_type": "code",
   "execution_count": 17,
   "metadata": {},
   "outputs": [
    {
     "name": "stdout",
     "output_type": "stream",
     "text": [
      "Device used: mps\n"
     ]
    }
   ],
   "source": [
    "device = torch.device('mps' if torch.backends.mps.is_available() else 'cpu')\n",
    "print(f'Device used: {device}')"
   ]
  },
  {
   "cell_type": "code",
   "execution_count": 18,
   "metadata": {},
   "outputs": [],
   "source": [
    "model = models.resnet18(weights = torchvision.models.ResNet18_Weights.DEFAULT)"
   ]
  },
  {
   "cell_type": "code",
   "execution_count": 19,
   "metadata": {},
   "outputs": [
    {
     "name": "stdout",
     "output_type": "stream",
     "text": [
      "Model specs:\n",
      "============\n",
      "Num classes: 4\n",
      "Num Features: 512\n"
     ]
    }
   ],
   "source": [
    "num_classes = len(train_dataset.classes)\n",
    "num_ftrs = model.fc.in_features\n",
    "print(f'Model specs:\\n============\\nNum classes: {num_classes}\\nNum Features: {num_ftrs}')"
   ]
  },
  {
   "cell_type": "code",
   "execution_count": 20,
   "metadata": {},
   "outputs": [],
   "source": [
    "model.fc = torch.nn.Linear(num_ftrs, num_classes)"
   ]
  },
  {
   "cell_type": "code",
   "execution_count": 21,
   "metadata": {},
   "outputs": [
    {
     "name": "stdout",
     "output_type": "stream",
     "text": [
      "ResNet(\n",
      "  (conv1): Conv2d(3, 64, kernel_size=(7, 7), stride=(2, 2), padding=(3, 3), bias=False)\n",
      "  (bn1): BatchNorm2d(64, eps=1e-05, momentum=0.1, affine=True, track_running_stats=True)\n",
      "  (relu): ReLU(inplace=True)\n",
      "  (maxpool): MaxPool2d(kernel_size=3, stride=2, padding=1, dilation=1, ceil_mode=False)\n",
      "  (layer1): Sequential(\n",
      "    (0): BasicBlock(\n",
      "      (conv1): Conv2d(64, 64, kernel_size=(3, 3), stride=(1, 1), padding=(1, 1), bias=False)\n",
      "      (bn1): BatchNorm2d(64, eps=1e-05, momentum=0.1, affine=True, track_running_stats=True)\n",
      "      (relu): ReLU(inplace=True)\n",
      "      (conv2): Conv2d(64, 64, kernel_size=(3, 3), stride=(1, 1), padding=(1, 1), bias=False)\n",
      "      (bn2): BatchNorm2d(64, eps=1e-05, momentum=0.1, affine=True, track_running_stats=True)\n",
      "    )\n",
      "    (1): BasicBlock(\n",
      "      (conv1): Conv2d(64, 64, kernel_size=(3, 3), stride=(1, 1), padding=(1, 1), bias=False)\n",
      "      (bn1): BatchNorm2d(64, eps=1e-05, momentum=0.1, affine=True, track_running_stats=True)\n",
      "      (relu): ReLU(inplace=True)\n",
      "      (conv2): Conv2d(64, 64, kernel_size=(3, 3), stride=(1, 1), padding=(1, 1), bias=False)\n",
      "      (bn2): BatchNorm2d(64, eps=1e-05, momentum=0.1, affine=True, track_running_stats=True)\n",
      "    )\n",
      "  )\n",
      "  (layer2): Sequential(\n",
      "    (0): BasicBlock(\n",
      "      (conv1): Conv2d(64, 128, kernel_size=(3, 3), stride=(2, 2), padding=(1, 1), bias=False)\n",
      "      (bn1): BatchNorm2d(128, eps=1e-05, momentum=0.1, affine=True, track_running_stats=True)\n",
      "      (relu): ReLU(inplace=True)\n",
      "      (conv2): Conv2d(128, 128, kernel_size=(3, 3), stride=(1, 1), padding=(1, 1), bias=False)\n",
      "      (bn2): BatchNorm2d(128, eps=1e-05, momentum=0.1, affine=True, track_running_stats=True)\n",
      "      (downsample): Sequential(\n",
      "        (0): Conv2d(64, 128, kernel_size=(1, 1), stride=(2, 2), bias=False)\n",
      "        (1): BatchNorm2d(128, eps=1e-05, momentum=0.1, affine=True, track_running_stats=True)\n",
      "      )\n",
      "    )\n",
      "    (1): BasicBlock(\n",
      "      (conv1): Conv2d(128, 128, kernel_size=(3, 3), stride=(1, 1), padding=(1, 1), bias=False)\n",
      "      (bn1): BatchNorm2d(128, eps=1e-05, momentum=0.1, affine=True, track_running_stats=True)\n",
      "      (relu): ReLU(inplace=True)\n",
      "      (conv2): Conv2d(128, 128, kernel_size=(3, 3), stride=(1, 1), padding=(1, 1), bias=False)\n",
      "      (bn2): BatchNorm2d(128, eps=1e-05, momentum=0.1, affine=True, track_running_stats=True)\n",
      "    )\n",
      "  )\n",
      "  (layer3): Sequential(\n",
      "    (0): BasicBlock(\n",
      "      (conv1): Conv2d(128, 256, kernel_size=(3, 3), stride=(2, 2), padding=(1, 1), bias=False)\n",
      "      (bn1): BatchNorm2d(256, eps=1e-05, momentum=0.1, affine=True, track_running_stats=True)\n",
      "      (relu): ReLU(inplace=True)\n",
      "      (conv2): Conv2d(256, 256, kernel_size=(3, 3), stride=(1, 1), padding=(1, 1), bias=False)\n",
      "      (bn2): BatchNorm2d(256, eps=1e-05, momentum=0.1, affine=True, track_running_stats=True)\n",
      "      (downsample): Sequential(\n",
      "        (0): Conv2d(128, 256, kernel_size=(1, 1), stride=(2, 2), bias=False)\n",
      "        (1): BatchNorm2d(256, eps=1e-05, momentum=0.1, affine=True, track_running_stats=True)\n",
      "      )\n",
      "    )\n",
      "    (1): BasicBlock(\n",
      "      (conv1): Conv2d(256, 256, kernel_size=(3, 3), stride=(1, 1), padding=(1, 1), bias=False)\n",
      "      (bn1): BatchNorm2d(256, eps=1e-05, momentum=0.1, affine=True, track_running_stats=True)\n",
      "      (relu): ReLU(inplace=True)\n",
      "      (conv2): Conv2d(256, 256, kernel_size=(3, 3), stride=(1, 1), padding=(1, 1), bias=False)\n",
      "      (bn2): BatchNorm2d(256, eps=1e-05, momentum=0.1, affine=True, track_running_stats=True)\n",
      "    )\n",
      "  )\n",
      "  (layer4): Sequential(\n",
      "    (0): BasicBlock(\n",
      "      (conv1): Conv2d(256, 512, kernel_size=(3, 3), stride=(2, 2), padding=(1, 1), bias=False)\n",
      "      (bn1): BatchNorm2d(512, eps=1e-05, momentum=0.1, affine=True, track_running_stats=True)\n",
      "      (relu): ReLU(inplace=True)\n",
      "      (conv2): Conv2d(512, 512, kernel_size=(3, 3), stride=(1, 1), padding=(1, 1), bias=False)\n",
      "      (bn2): BatchNorm2d(512, eps=1e-05, momentum=0.1, affine=True, track_running_stats=True)\n",
      "      (downsample): Sequential(\n",
      "        (0): Conv2d(256, 512, kernel_size=(1, 1), stride=(2, 2), bias=False)\n",
      "        (1): BatchNorm2d(512, eps=1e-05, momentum=0.1, affine=True, track_running_stats=True)\n",
      "      )\n",
      "    )\n",
      "    (1): BasicBlock(\n",
      "      (conv1): Conv2d(512, 512, kernel_size=(3, 3), stride=(1, 1), padding=(1, 1), bias=False)\n",
      "      (bn1): BatchNorm2d(512, eps=1e-05, momentum=0.1, affine=True, track_running_stats=True)\n",
      "      (relu): ReLU(inplace=True)\n",
      "      (conv2): Conv2d(512, 512, kernel_size=(3, 3), stride=(1, 1), padding=(1, 1), bias=False)\n",
      "      (bn2): BatchNorm2d(512, eps=1e-05, momentum=0.1, affine=True, track_running_stats=True)\n",
      "    )\n",
      "  )\n",
      "  (avgpool): AdaptiveAvgPool2d(output_size=(1, 1))\n",
      "  (fc): Linear(in_features=512, out_features=4, bias=True)\n",
      ")\n"
     ]
    }
   ],
   "source": [
    "print(model)"
   ]
  },
  {
   "cell_type": "markdown",
   "metadata": {},
   "source": [
    "### Модель только со всеми замороженными параметрами кроме параметров FC"
   ]
  },
  {
   "cell_type": "code",
   "execution_count": 22,
   "metadata": {},
   "outputs": [],
   "source": [
    "for parameter in model.parameters():\n",
    "    parameter.requires_grad = False\n",
    "for parameter in model.fc.parameters():\n",
    "    parameter.requires_grad = True"
   ]
  },
  {
   "cell_type": "code",
   "execution_count": 23,
   "metadata": {},
   "outputs": [],
   "source": [
    "model = model.to(device)"
   ]
  },
  {
   "cell_type": "code",
   "execution_count": 24,
   "metadata": {},
   "outputs": [],
   "source": [
    "optimizer = torch.optim.SGD(model.fc.parameters(), lr = 0.001, momentum = 0.9)\n"
   ]
  },
  {
   "cell_type": "markdown",
   "metadata": {},
   "source": [
    "##### Loss Function"
   ]
  },
  {
   "cell_type": "code",
   "execution_count": 25,
   "metadata": {},
   "outputs": [],
   "source": [
    "criterion = torch.nn.CrossEntropyLoss()"
   ]
  },
  {
   "cell_type": "markdown",
   "metadata": {},
   "source": [
    "##### Функция обучения\n"
   ]
  },
  {
   "cell_type": "code",
   "execution_count": 26,
   "metadata": {},
   "outputs": [],
   "source": [
    "def train_one_epoch(model, dataloader, criterion, optimizer, device):\n",
    "    model.train()\n",
    "    running_loss = 0.0\n",
    "    correct = 0\n",
    "    total = 0\n",
    "    all_preds = []  # Список для хранения предсказанных классов\n",
    "    all_labels = []  # Список для хранения истинных меток\n",
    "\n",
    "    for inputs, labels in dataloader:\n",
    "        inputs = inputs.to(device)\n",
    "        labels = labels.to(device)\n",
    "\n",
    "        optimizer.zero_grad()\n",
    "        outputs= model(inputs) ### прямой проход\n",
    "        loss = criterion(outputs, labels) ### рассчет функции потерь\n",
    "        loss.backward() ### обратный проход\n",
    "        optimizer.step() ### обновление параметров\n",
    "\n",
    "        running_loss += loss.item() * inputs.size(0) # возвращает первую ось тензора где сожержится размер батча, например тензор изначально как\n",
    "                                                    # (64, 3, 224, 224) и возьмется соответсвенно 64\n",
    "        _, preds= torch.max(outputs, 1) # возвращает 2 объекта - первый реальный probability максимальный из всех классов, второй индекс класса (или просто класс)\n",
    "        correct += (preds == labels).sum().item() # предсказания равны лейблам, сумма, превратить в число из тензора\n",
    "        total += labels.size(0) # количество лейблов по сути, а именно \n",
    "\n",
    "\n",
    "    epoch_loss = running_loss/total # средняя потеря за эпоху в виде накопишвегося лосс поделить на общее количество примеров\n",
    "    epoch_acc = correct/total # точность\n",
    "\n",
    "    return epoch_loss, epoch_acc # Возвращаем метрики\n",
    "\n"
   ]
  },
  {
   "cell_type": "code",
   "execution_count": 27,
   "metadata": {},
   "outputs": [],
   "source": [
    "def validate_one_epoch(model, dataloader, criterion, device):\n",
    "    model.eval() #переводим модель в режим оценки\n",
    "    running_loss = 0.0\n",
    "    correct = 0 \n",
    "    total = 0\n",
    "\n",
    "    with torch.no_grad():\n",
    "        for inputs, labels in dataloader:\n",
    "            inputs = inputs.to(device)\n",
    "            labels = labels.to(device)\n",
    "\n",
    "            outputs = model(inputs)\n",
    "            loss = criterion(outputs, labels)\n",
    "\n",
    "            running_loss += loss.item() * inputs.size(0)\n",
    "            # Вычисление точности\n",
    "            _, preds = torch.max(outputs, 1)  # Получаем предсказанные классы\n",
    "            correct += (preds == labels).sum().item()  # Считаем правильные предсказания\n",
    "            total += labels.size(0)  # Общее количество образцов\n",
    "\n",
    "    epoch_loss = running_loss / total  # Средняя потеря за эпоху\n",
    "    epoch_acc = correct / total        # Точность за эпоху\n",
    "\n",
    "    return epoch_loss, epoch_acc  # Возвращаем потери и точность"
   ]
  },
  {
   "cell_type": "code",
   "execution_count": 32,
   "metadata": {},
   "outputs": [
    {
     "name": "stdout",
     "output_type": "stream",
     "text": [
      "Test Loss: 0.2704 Acc: 0.9092\n"
     ]
    }
   ],
   "source": [
    "# Тестирование модели на тестовом наборе данных\n",
    "test_loss, test_acc = validate_one_epoch(model, test_loader, criterion, device)\n",
    "print(f'Test Loss: {test_loss:.4f} Acc: {test_acc:.4f}')"
   ]
  },
  {
   "cell_type": "code",
   "execution_count": 28,
   "metadata": {},
   "outputs": [],
   "source": [
    "num_epochs = 20\n",
    "history = {\n",
    "    'train_loss':[],\n",
    "    'train_acc':[],\n",
    "    'val_loss':[],\n",
    "    'val_acc':[]\n",
    "}\n",
    "best_val_acc = 0.0"
   ]
  },
  {
   "cell_type": "code",
   "execution_count": 29,
   "metadata": {},
   "outputs": [
    {
     "name": "stdout",
     "output_type": "stream",
     "text": [
      "Epoch 1/20\n",
      "----------\n",
      "Train Loss: 0.9251 Acc: 0.6445\n",
      "Validation Loss: 0.6065 Acc: 0.8127\n",
      "Epoch 2/20\n",
      "----------\n",
      "Train Loss: 0.5402 Acc: 0.8242\n",
      "Validation Loss: 0.4922 Acc: 0.8412\n",
      "Epoch 3/20\n",
      "----------\n",
      "Train Loss: 0.4692 Acc: 0.8394\n",
      "Validation Loss: 0.4353 Acc: 0.8511\n",
      "Epoch 4/20\n",
      "----------\n",
      "Train Loss: 0.4394 Acc: 0.8484\n",
      "Validation Loss: 0.4124 Acc: 0.8583\n",
      "Epoch 5/20\n",
      "----------\n",
      "Train Loss: 0.4124 Acc: 0.8539\n",
      "Validation Loss: 0.3925 Acc: 0.8697\n",
      "Epoch 6/20\n",
      "----------\n",
      "Train Loss: 0.3990 Acc: 0.8592\n",
      "Validation Loss: 0.3947 Acc: 0.8611\n",
      "Epoch 7/20\n",
      "----------\n",
      "Train Loss: 0.3865 Acc: 0.8632\n",
      "Validation Loss: 0.3732 Acc: 0.8647\n",
      "Epoch 8/20\n",
      "----------\n",
      "Train Loss: 0.3786 Acc: 0.8655\n",
      "Validation Loss: 0.3643 Acc: 0.8697\n",
      "Epoch 9/20\n",
      "----------\n",
      "Train Loss: 0.3600 Acc: 0.8689\n",
      "Validation Loss: 0.3500 Acc: 0.8746\n",
      "Epoch 10/20\n",
      "----------\n",
      "Train Loss: 0.3540 Acc: 0.8708\n",
      "Validation Loss: 0.3474 Acc: 0.8725\n",
      "Epoch 11/20\n",
      "----------\n",
      "Train Loss: 0.3515 Acc: 0.8763\n",
      "Validation Loss: 0.3363 Acc: 0.8754\n",
      "Epoch 12/20\n",
      "----------\n",
      "Train Loss: 0.3353 Acc: 0.8854\n",
      "Validation Loss: 0.3401 Acc: 0.8782\n",
      "Epoch 13/20\n",
      "----------\n",
      "Train Loss: 0.3417 Acc: 0.8775\n",
      "Validation Loss: 0.3241 Acc: 0.8803\n",
      "Epoch 14/20\n",
      "----------\n",
      "Train Loss: 0.3286 Acc: 0.8854\n",
      "Validation Loss: 0.3212 Acc: 0.8832\n",
      "Epoch 15/20\n",
      "----------\n",
      "Train Loss: 0.3272 Acc: 0.8773\n",
      "Validation Loss: 0.3190 Acc: 0.8818\n",
      "Epoch 16/20\n",
      "----------\n",
      "Train Loss: 0.3228 Acc: 0.8818\n",
      "Validation Loss: 0.3423 Acc: 0.8811\n",
      "Epoch 17/20\n",
      "----------\n",
      "Train Loss: 0.3200 Acc: 0.8840\n",
      "Validation Loss: 0.3145 Acc: 0.8796\n",
      "Epoch 18/20\n",
      "----------\n",
      "Train Loss: 0.3157 Acc: 0.8850\n",
      "Validation Loss: 0.3165 Acc: 0.8860\n",
      "Epoch 19/20\n",
      "----------\n",
      "Train Loss: 0.3202 Acc: 0.8846\n",
      "Validation Loss: 0.3092 Acc: 0.8846\n",
      "Epoch 20/20\n",
      "----------\n",
      "Train Loss: 0.3098 Acc: 0.8897\n",
      "Validation Loss: 0.3106 Acc: 0.8868\n"
     ]
    }
   ],
   "source": [
    "for epoch in range(num_epochs):\n",
    "    print(f'Epoch {epoch + 1}/{num_epochs}')\n",
    "    print('-' * 10)\n",
    "\n",
    "    # Обучение одной эпохи\n",
    "    train_loss, train_acc = train_one_epoch(model, train_loader, criterion, optimizer, device)\n",
    "    history['train_loss'].append(train_loss)\n",
    "    history['train_acc'].append(train_acc)\n",
    "    print(f'Train Loss: {train_loss:.4f} Acc: {train_acc:.4f}')\n",
    "\n",
    "    # Валидация на одной эпохе\n",
    "    val_loss, val_acc = validate_one_epoch(model, val_loader, criterion, device)\n",
    "    history['val_loss'].append(val_loss)\n",
    "    history['val_acc'].append(val_acc)\n",
    "    print(f'Validation Loss: {val_loss:.4f} Acc: {val_acc:.4f}')\n",
    "\n",
    "    if val_acc > best_val_acc:\n",
    "        best_val_acc = val_acc\n",
    "        best_model_wts = model.state_dict()\n"
   ]
  },
  {
   "cell_type": "code",
   "execution_count": 30,
   "metadata": {},
   "outputs": [
    {
     "name": "stdout",
     "output_type": "stream",
     "text": [
      "Best accuracy on validation 0.8868\n"
     ]
    }
   ],
   "source": [
    "# Загрузим лучшие полученные параметры модели\n",
    "if best_model_wts is not None:\n",
    "    model.load_state_dict(best_model_wts)\n",
    "    print(f'Best accuracy on validation {best_val_acc:.4f}')"
   ]
  },
  {
   "cell_type": "code",
   "execution_count": 31,
   "metadata": {},
   "outputs": [
    {
     "data": {
      "image/png": "[encoded data removed]",
      "text/plain": [
       "<Figure size 1200x500 with 2 Axes>"
      ]
     },
     "metadata": {},
     "output_type": "display_data"
    }
   ],
   "source": [
    "# Визуализация\n",
    "plt.figure(figsize = (12,5))\n",
    "\n",
    "# Потери Loss\n",
    "plt.subplot(1,2,1)\n",
    "plt.plot(range(1, num_epochs + 1), history['train_loss'], label = 'Train Loss')\n",
    "plt.plot(range(1, num_epochs + 1), history['val_loss'], label= 'Val Loss')\n",
    "plt.xlabel('Эпоха')\n",
    "plt.ylabel('Потери')\n",
    "plt.title('Потери по эпохам')\n",
    "plt.legend()\n",
    "\n",
    "# Accuracy Точность\n",
    "plt.subplot(1,2,2)\n",
    "plt.plot(range(1, num_epochs+1), history['train_acc'], label='Train Accuracy')\n",
    "plt.plot(range(1, num_epochs+1), history['val_acc'], label='Val Accuracy')\n",
    "plt.xlabel('Эпоха')\n",
    "plt.ylabel('Точность')\n",
    "plt.title('Точность по эпохам')\n",
    "plt.legend()\n",
    "\n",
    "plt.tight_layout()\n",
    "plt.show()"
   ]
  },
  {
   "cell_type": "code",
   "execution_count": null,
   "metadata": {},
   "outputs": [],
   "source": [
    "# сохраним нашу модель\n",
    "torch.save(model.state_dict(), 'best_model.pth')\n",
    "print('Модель сохранена как best_model.pth')"
   ]
  },
  {
   "cell_type": "code",
   "execution_count": null,
   "metadata": {},
   "outputs": [],
   "source": []
  }
 ],
 "metadata": {
  "kernelspec": {
   "display_name": "egor",
   "language": "python",
   "name": "python3"
  },
  "language_info": {
   "codemirror_mode": {
    "name": "ipython",
    "version": 3
   },
   "file_extension": ".py",
   "mimetype": "text/x-python",
   "name": "python",
   "nbconvert_exporter": "python",
   "pygments_lexer": "ipython3",
   "version": "3.11.6"
  }
 },
 "nbformat": 4,
 "nbformat_minor": 2
}
